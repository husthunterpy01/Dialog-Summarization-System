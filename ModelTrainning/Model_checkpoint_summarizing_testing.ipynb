{
 "cells": [
  {
   "cell_type": "code",
   "execution_count": 2,
   "id": "1f36a003-c03d-47fe-9db5-dd055d0b2bbd",
   "metadata": {},
   "outputs": [],
   "source": [
    "from transformers import AutoModelForSeq2SeqLM, AutoTokenizer\n",
    "\n",
    "# Load the tokenizer and model\n",
    "CHECKPOINT = \"/home/nhat/Documents/run/results/fine-tuned-model/checkpoint-1100\"  # Replace with your checkpoint directory or Hugging Face model name\n",
    "tokenizer = AutoTokenizer.from_pretrained(CHECKPOINT)\n",
    "model = AutoModelForSeq2SeqLM.from_pretrained(CHECKPOINT)\n"
   ]
  },
  {
   "cell_type": "code",
   "execution_count": 3,
   "id": "ad9c38db-b563-474f-a5c3-e10970144ff1",
   "metadata": {},
   "outputs": [
    {
     "name": "stdout",
     "output_type": "stream",
     "text": [
      "User: Hello, how are you? Bot: I'm fine, thank you. User: Can you summarize this conversation? Bot: Of course, let me help.\n"
     ]
    }
   ],
   "source": [
    "conversation = [\n",
    "    {\"user\": \"Hello, how are you?\", \"bot\": \"I'm fine, thank you.\"},\n",
    "    {\"user\": \"Can you summarize this conversation?\", \"bot\": \"Of course, let me help.\"}\n",
    "]\n",
    "\n",
    "# Combine conversation into a single input text\n",
    "input_text = \" \".join([f\"User: {entry['user']} Bot: {entry['bot']}\" for entry in conversation])\n",
    "print(input_text)\n"
   ]
  },
  {
   "cell_type": "code",
   "execution_count": 4,
   "id": "fe281712-56d6-466b-9918-1bb8a6bcb918",
   "metadata": {},
   "outputs": [
    {
     "name": "stderr",
     "output_type": "stream",
     "text": [
      "Asking to truncate to max_length but no maximum length is provided and the model has no predefined maximum length. Default to no truncation.\n"
     ]
    },
    {
     "name": "stdout",
     "output_type": "stream",
     "text": [
      "Summarized Conversation:\n",
      "Bot is saying that he is fine and asks to summarize the conversation.\n"
     ]
    }
   ],
   "source": [
    "# Tokenize the input\n",
    "inputs = tokenizer(input_text, return_tensors=\"pt\", truncation=True)\n",
    "\n",
    "# Generate summary\n",
    "summary_ids = model.generate(\n",
    "    inputs[\"input_ids\"], \n",
    "    max_length=50,  # Adjust the max length as needed\n",
    "    min_length=10,  # Adjust the minimum length\n",
    "    length_penalty=2.0, \n",
    "    num_beams=4, \n",
    "    early_stopping=True\n",
    ")\n",
    "\n",
    "# Decode the generated summary\n",
    "summary = tokenizer.decode(summary_ids[0], skip_special_tokens=True)\n",
    "print(\"Summarized Conversation:\")\n",
    "print(summary)\n"
   ]
  },
  {
   "cell_type": "code",
   "execution_count": null,
   "id": "2c89a6c4-2f1c-426a-af6a-a4006cea30c1",
   "metadata": {},
   "outputs": [],
   "source": []
  }
 ],
 "metadata": {
  "kernelspec": {
   "display_name": "Python 3 (ipykernel)",
   "language": "python",
   "name": "python3"
  },
  "language_info": {
   "codemirror_mode": {
    "name": "ipython",
    "version": 3
   },
   "file_extension": ".py",
   "mimetype": "text/x-python",
   "name": "python",
   "nbconvert_exporter": "python",
   "pygments_lexer": "ipython3",
   "version": "3.10.12"
  }
 },
 "nbformat": 4,
 "nbformat_minor": 5
}
