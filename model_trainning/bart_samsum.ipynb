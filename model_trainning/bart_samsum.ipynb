{
 "cells": [
  {
   "cell_type": "code",
   "execution_count": 1,
   "metadata": {
    "_cell_guid": "b1076dfc-b9ad-4769-8c92-a6c4dae69d19",
    "_uuid": "8f2839f25d086af736a60e9eeb907d3b93b6e0e5",
    "execution": {
     "iopub.execute_input": "2024-11-26T15:50:19.328741Z",
     "iopub.status.busy": "2024-11-26T15:50:19.328242Z",
     "iopub.status.idle": "2024-11-26T15:50:23.176917Z",
     "shell.execute_reply": "2024-11-26T15:50:23.175876Z",
     "shell.execute_reply.started": "2024-11-26T15:50:19.328689Z"
    }
   },
   "outputs": [
    {
     "data": {
      "application/vnd.jupyter.widget-view+json": {
       "model_id": "912fece8dc0745e796e101d0339ccae9",
       "version_major": 2,
       "version_minor": 0
      },
      "text/plain": [
       "Generating train split: 0 examples [00:00, ? examples/s]"
      ]
     },
     "metadata": {},
     "output_type": "display_data"
    },
    {
     "data": {
      "application/vnd.jupyter.widget-view+json": {
       "model_id": "c82925436f6d4818adca3aae141d37ce",
       "version_major": 2,
       "version_minor": 0
      },
      "text/plain": [
       "Generating test split: 0 examples [00:00, ? examples/s]"
      ]
     },
     "metadata": {},
     "output_type": "display_data"
    },
    {
     "data": {
      "application/vnd.jupyter.widget-view+json": {
       "model_id": "bf1952fddb804093ac7d12a14874b104",
       "version_major": 2,
       "version_minor": 0
      },
      "text/plain": [
       "Generating validation split: 0 examples [00:00, ? examples/s]"
      ]
     },
     "metadata": {},
     "output_type": "display_data"
    }
   ],
   "source": [
    "from datasets import load_dataset\n",
    "\n",
    "samsum_train_dataset = load_dataset(\"csv\", data_files={\"train\": \"/kaggle/input/samsum-dataset-text-summarization/samsum-test.csv\"})\n",
    "samsum_test_dataset = load_dataset(\"csv\", data_files={\"test\": \"/kaggle/input/samsum-dataset-text-summarization/samsum-test.csv\"})\n",
    "samsum_validate_dataset = load_dataset(\"csv\", data_files={\"validation\": \"/kaggle/input/samsum-dataset-text-summarization/samsum-validation.csv\"})\n",
    "\n"
   ]
  },
  {
   "cell_type": "code",
   "execution_count": 2,
   "metadata": {
    "execution": {
     "iopub.execute_input": "2024-11-26T15:50:23.179162Z",
     "iopub.status.busy": "2024-11-26T15:50:23.178641Z",
     "iopub.status.idle": "2024-11-26T15:50:23.190072Z",
     "shell.execute_reply": "2024-11-26T15:50:23.188061Z",
     "shell.execute_reply.started": "2024-11-26T15:50:23.179128Z"
    }
   },
   "outputs": [
    {
     "data": {
      "text/plain": [
       "{'id': '13681721',\n",
       " 'dialogue': \"Stan: She replied :-)\\r\\nDave: She did?\\r\\nStan: <file_photo>\\r\\nDave: Lucky you!\\r\\nStan: I can't believe it! She's my dream come true!\\r\\nDave: Good luck today! Where are you going to take her?\\r\\nStan: Pat&Gill's\\r\\nDave: Good choice. Let me know how it was :-)\\r\\nStan: I will.\\r\\nDave: In minute detail :-)\\r\\nStan: Forget it!\",\n",
       " 'summary': \"Stan is meeting the girl of his dreams today in Pat&Gill's. Later he's going to tell Dave how his date went.\"}"
      ]
     },
     "execution_count": 2,
     "metadata": {},
     "output_type": "execute_result"
    }
   ],
   "source": [
    "samsum_train_dataset[\"train\"][280]"
   ]
  },
  {
   "cell_type": "code",
   "execution_count": null,
   "metadata": {
    "execution": {
     "iopub.execute_input": "2024-11-26T15:50:23.191886Z",
     "iopub.status.busy": "2024-11-26T15:50:23.191381Z"
    }
   },
   "outputs": [],
   "source": [
    "from transformers import pipeline\n",
    "\n",
    "text_summarizer = pipeline(\"summarization\", model=\"facebook/bart-base\", device=0)\n"
   ]
  },
  {
   "cell_type": "code",
   "execution_count": null,
   "metadata": {},
   "outputs": [],
   "source": [
    "text_summarizer(samsum_train_dataset[\"train\"][1][\"dialogue\"], max_length=20, min_length=10, do_sample= False )"
   ]
  },
  {
   "cell_type": "code",
   "execution_count": 136,
   "metadata": {
    "execution": {
     "iopub.execute_input": "2024-11-25T16:39:05.043840Z",
     "iopub.status.busy": "2024-11-25T16:39:05.043396Z",
     "iopub.status.idle": "2024-11-25T16:39:06.561966Z",
     "shell.execute_reply": "2024-11-25T16:39:06.561262Z",
     "shell.execute_reply.started": "2024-11-25T16:39:05.043790Z"
    }
   },
   "outputs": [],
   "source": [
    "# Fine tune the SamSUM model to improve the summarize performance\n",
    "# Add the BART tokenizer and model\n",
    "from transformers import BartForConditionalGeneration, AutoTokenizer\n",
    "tokenizer = AutoTokenizer.from_pretrained(\"facebook/bart-base\")\n",
    "model = BartForConditionalGeneration.from_pretrained(\"facebook/bart-base\", dropout=0.3)"
   ]
  },
  {
   "cell_type": "code",
   "execution_count": 137,
   "metadata": {
    "execution": {
     "iopub.execute_input": "2024-11-25T16:39:06.563572Z",
     "iopub.status.busy": "2024-11-25T16:39:06.563304Z",
     "iopub.status.idle": "2024-11-25T16:39:07.479661Z",
     "shell.execute_reply": "2024-11-25T16:39:07.478778Z",
     "shell.execute_reply.started": "2024-11-25T16:39:06.563545Z"
    }
   },
   "outputs": [
    {
     "data": {
      "application/vnd.jupyter.widget-view+json": {
       "model_id": "3a38e533087d465e9a545cb319e2703c",
       "version_major": 2,
       "version_minor": 0
      },
      "text/plain": [
       "Map:   0%|          | 0/819 [00:00<?, ? examples/s]"
      ]
     },
     "metadata": {},
     "output_type": "display_data"
    },
    {
     "data": {
      "application/vnd.jupyter.widget-view+json": {
       "model_id": "db9c54ddea34439db2a3f2d35583274d",
       "version_major": 2,
       "version_minor": 0
      },
      "text/plain": [
       "Map:   0%|          | 0/819 [00:00<?, ? examples/s]"
      ]
     },
     "metadata": {},
     "output_type": "display_data"
    },
    {
     "data": {
      "application/vnd.jupyter.widget-view+json": {
       "model_id": "b1db8762e0664285b09dfc21d987c3ff",
       "version_major": 2,
       "version_minor": 0
      },
      "text/plain": [
       "Map:   0%|          | 0/818 [00:00<?, ? examples/s]"
      ]
     },
     "metadata": {},
     "output_type": "display_data"
    }
   ],
   "source": [
    "# Remove the icon tag like =), :v\n",
    "# Guess the word meaning for the missing character of a word\n",
    "import re\n",
    "\n",
    "def preprocess_missingchar_and_icon(sample):\n",
    "    def clean_text(text):\n",
    "        # Remove icon tags, including the characters inside angled brackets (e.g., <photo>, <emoji>)\n",
    "        text = re.sub(r'<.*?>', '', text)\n",
    "        \n",
    "        # Remove common emoticons or icons like :v, :-), :)\n",
    "        text = re.sub(r'(:\\)|:-\\)|:v|:D|<3)', '', text)\n",
    "             \n",
    "        # Remove extra whitespace caused by the removal of icons\n",
    "        text = re.sub(r'\\s+', ' ', text).strip()\n",
    "        \n",
    "        return text\n",
    "    \n",
    "    # Apply cleaning to the text and summary fields\n",
    "    sample[\"dialogue\"] = clean_text(sample[\"dialogue\"])\n",
    "    sample[\"summary\"] = clean_text(sample[\"summary\"])\n",
    "    return sample\n",
    "\n",
    "samsum_train_dataset = samsum_train_dataset.map(preprocess_missingchar_and_icon)\n",
    "samsum_test_dataset = samsum_test_dataset.map(preprocess_missingchar_and_icon)\n",
    "samsum_validate_dataset = samsum_validate_dataset.map(preprocess_missingchar_and_icon)"
   ]
  },
  {
   "cell_type": "code",
   "execution_count": 138,
   "metadata": {
    "execution": {
     "iopub.execute_input": "2024-11-25T16:39:08.607251Z",
     "iopub.status.busy": "2024-11-25T16:39:08.606419Z",
     "iopub.status.idle": "2024-11-25T16:39:08.614121Z",
     "shell.execute_reply": "2024-11-25T16:39:08.613404Z",
     "shell.execute_reply.started": "2024-11-25T16:39:08.607214Z"
    }
   },
   "outputs": [
    {
     "data": {
      "text/plain": [
       "{'id': '13681721',\n",
       " 'dialogue': \"Stan: She replied Dave: She did? Stan: Dave: Lucky you! Stan: I can't believe it! She's my dream come true! Dave: Good luck today! Where are you going to take her? Stan: Pat&Gill's Dave: Good choice. Let me know how it was Stan: I will. Dave: In minute detail Stan: Forget it!\",\n",
       " 'summary': \"Stan is meeting the girl of his dreams today in Pat&Gill's. Later he's going to tell Dave how his date went.\"}"
      ]
     },
     "execution_count": 138,
     "metadata": {},
     "output_type": "execute_result"
    }
   ],
   "source": [
    "samsum_train_dataset[\"train\"][280]"
   ]
  },
  {
   "cell_type": "code",
   "execution_count": 139,
   "metadata": {
    "execution": {
     "iopub.execute_input": "2024-11-25T16:39:17.833475Z",
     "iopub.status.busy": "2024-11-25T16:39:17.832898Z",
     "iopub.status.idle": "2024-11-25T16:39:18.708627Z",
     "shell.execute_reply": "2024-11-25T16:39:18.707702Z",
     "shell.execute_reply.started": "2024-11-25T16:39:17.833440Z"
    }
   },
   "outputs": [
    {
     "data": {
      "application/vnd.jupyter.widget-view+json": {
       "model_id": "683198c4755e417ea3c24131328600f7",
       "version_major": 2,
       "version_minor": 0
      },
      "text/plain": [
       "Map:   0%|          | 0/819 [00:00<?, ? examples/s]"
      ]
     },
     "metadata": {},
     "output_type": "display_data"
    },
    {
     "name": "stderr",
     "output_type": "stream",
     "text": [
      "/opt/conda/lib/python3.10/site-packages/transformers/tokenization_utils_base.py:4117: UserWarning: `as_target_tokenizer` is deprecated and will be removed in v5 of Transformers. You can tokenize your labels by using the argument `text_target` of the regular `__call__` method (either in the same call as your input texts if you use the same keyword arguments, or in a separate call.\n",
      "  warnings.warn(\n"
     ]
    },
    {
     "data": {
      "application/vnd.jupyter.widget-view+json": {
       "model_id": "02b531563ecc4174a3639c35b3c7cb33",
       "version_major": 2,
       "version_minor": 0
      },
      "text/plain": [
       "Map:   0%|          | 0/818 [00:00<?, ? examples/s]"
      ]
     },
     "metadata": {},
     "output_type": "display_data"
    },
    {
     "data": {
      "application/vnd.jupyter.widget-view+json": {
       "model_id": "bba83019dbc04bfa95a82bb8b42ed20f",
       "version_major": 2,
       "version_minor": 0
      },
      "text/plain": [
       "Map:   0%|          | 0/819 [00:00<?, ? examples/s]"
      ]
     },
     "metadata": {},
     "output_type": "display_data"
    }
   ],
   "source": [
    "def preprocessData(records, tokenizer, max_length_preprocess=128):\n",
    "    sources = records[\"dialogue\"]\n",
    "    targets = records[\"summary\"]\n",
    "\n",
    "    input_encoding = tokenizer(sources, max_length=max_length_preprocess, padding=\"max_length\", truncation=True)\n",
    "    with tokenizer.as_target_tokenizer():\n",
    "        output_encoding = tokenizer(targets, max_length=max_length_preprocess, padding=\"max_length\", truncation=True)\n",
    "\n",
    "    # Return as lists to ensure compatibility with DataLoader\n",
    "    return {\n",
    "        \"input_ids\": input_encoding[\"input_ids\"],\n",
    "        \"attention_mask\": input_encoding[\"attention_mask\"],\n",
    "        \"labels\": output_encoding[\"input_ids\"],\n",
    "    }\n",
    "\n",
    "train_dataset = samsum_train_dataset[\"train\"].map(lambda x: preprocessData(x, tokenizer), batched=True)\n",
    "validation_dataset = samsum_validate_dataset[\"validation\"].map(lambda x: preprocessData(x, tokenizer), batched=True)\n",
    "test_dataset = samsum_test_dataset[\"test\"].map(lambda x: preprocessData(x, tokenizer), batched=True)"
   ]
  },
  {
   "cell_type": "code",
   "execution_count": 140,
   "metadata": {
    "execution": {
     "iopub.execute_input": "2024-11-25T16:39:18.711127Z",
     "iopub.status.busy": "2024-11-25T16:39:18.710699Z",
     "iopub.status.idle": "2024-11-25T16:39:18.723712Z",
     "shell.execute_reply": "2024-11-25T16:39:18.722837Z",
     "shell.execute_reply.started": "2024-11-25T16:39:18.711097Z"
    }
   },
   "outputs": [],
   "source": [
    "# Build the customized DataLoader class for fine-tunning\n",
    "from torch.utils.data import DataLoader, Dataset\n",
    "from datasets import load_dataset\n",
    "\n",
    "class SamSUMDataset(Dataset):\n",
    "    def __init__(self, tokenizer, max_length=512):\n",
    "        self.dataset = samsum_train_dataset['train']\n",
    "        self.tokenizer = tokenizer\n",
    "        self.max_length = max_length\n",
    "\n",
    "    def __len__(self):\n",
    "        return len(self.dataset)\n",
    "\n",
    "    def __getitem__(self, idx):\n",
    "        dialogue = self.dataset[idx]['dialogue']\n",
    "        summary = self.dataset[idx]['summary']\n",
    "        inputs = self.tokenizer(\n",
    "            dialogue,\n",
    "            max_length=self.max_length,\n",
    "            padding=\"max_length\",\n",
    "            truncation=True,\n",
    "            return_tensors=\"pt\"\n",
    "        )\n",
    "        labels = self.tokenizer(\n",
    "            summary,\n",
    "            max_length=self.max_length,\n",
    "            padding=\"max_length\",\n",
    "            truncation=True,\n",
    "            return_tensors=\"pt\"\n",
    "        )\n",
    "        return {\n",
    "            \"input_ids\": inputs['input_ids'].squeeze(0),\n",
    "            \"attention_mask\": inputs['attention_mask'].squeeze(0),\n",
    "            \"labels\": labels['input_ids'].squeeze(0)\n",
    "        }\n",
    "\n",
    "train_dataloader = DataLoader(train_dataset, batch_size=8, shuffle=True)\n",
    "validation_dataloader = DataLoader(validation_dataset, batch_size=8)\n",
    "test_dataloader = DataLoader(test_dataset, batch_size=8)"
   ]
  },
  {
   "cell_type": "code",
   "execution_count": 141,
   "metadata": {
    "execution": {
     "iopub.execute_input": "2024-11-25T16:39:18.725037Z",
     "iopub.status.busy": "2024-11-25T16:39:18.724751Z",
     "iopub.status.idle": "2024-11-25T16:39:27.204119Z",
     "shell.execute_reply": "2024-11-25T16:39:27.202981Z",
     "shell.execute_reply.started": "2024-11-25T16:39:18.725012Z"
    }
   },
   "outputs": [
    {
     "name": "stderr",
     "output_type": "stream",
     "text": [
      "huggingface/tokenizers: The current process just got forked, after parallelism has already been used. Disabling parallelism to avoid deadlocks...\n",
      "To disable this warning, you can either:\n",
      "\t- Avoid using `tokenizers` before the fork if possible\n",
      "\t- Explicitly set the environment variable TOKENIZERS_PARALLELISM=(true | false)\n"
     ]
    },
    {
     "name": "stdout",
     "output_type": "stream",
     "text": [
      "Requirement already satisfied: evaluate in /opt/conda/lib/python3.10/site-packages (0.4.3)\n",
      "Requirement already satisfied: datasets>=2.0.0 in /opt/conda/lib/python3.10/site-packages (from evaluate) (3.0.1)\n",
      "Requirement already satisfied: numpy>=1.17 in /opt/conda/lib/python3.10/site-packages (from evaluate) (1.26.4)\n",
      "Requirement already satisfied: dill in /opt/conda/lib/python3.10/site-packages (from evaluate) (0.3.8)\n",
      "Requirement already satisfied: pandas in /opt/conda/lib/python3.10/site-packages (from evaluate) (2.2.2)\n",
      "Requirement already satisfied: requests>=2.19.0 in /opt/conda/lib/python3.10/site-packages (from evaluate) (2.32.3)\n",
      "Requirement already satisfied: tqdm>=4.62.1 in /opt/conda/lib/python3.10/site-packages (from evaluate) (4.66.4)\n",
      "Requirement already satisfied: xxhash in /opt/conda/lib/python3.10/site-packages (from evaluate) (3.4.1)\n",
      "Requirement already satisfied: multiprocess in /opt/conda/lib/python3.10/site-packages (from evaluate) (0.70.16)\n",
      "Requirement already satisfied: fsspec>=2021.05.0 in /opt/conda/lib/python3.10/site-packages (from fsspec[http]>=2021.05.0->evaluate) (2024.6.1)\n",
      "Requirement already satisfied: huggingface-hub>=0.7.0 in /opt/conda/lib/python3.10/site-packages (from evaluate) (0.25.1)\n",
      "Requirement already satisfied: packaging in /opt/conda/lib/python3.10/site-packages (from evaluate) (21.3)\n",
      "Requirement already satisfied: filelock in /opt/conda/lib/python3.10/site-packages (from datasets>=2.0.0->evaluate) (3.15.1)\n",
      "Requirement already satisfied: pyarrow>=15.0.0 in /opt/conda/lib/python3.10/site-packages (from datasets>=2.0.0->evaluate) (16.1.0)\n",
      "Requirement already satisfied: aiohttp in /opt/conda/lib/python3.10/site-packages (from datasets>=2.0.0->evaluate) (3.9.5)\n",
      "Requirement already satisfied: pyyaml>=5.1 in /opt/conda/lib/python3.10/site-packages (from datasets>=2.0.0->evaluate) (6.0.2)\n",
      "Requirement already satisfied: typing-extensions>=3.7.4.3 in /opt/conda/lib/python3.10/site-packages (from huggingface-hub>=0.7.0->evaluate) (4.12.2)\n",
      "Requirement already satisfied: pyparsing!=3.0.5,>=2.0.2 in /opt/conda/lib/python3.10/site-packages (from packaging->evaluate) (3.1.2)\n",
      "Requirement already satisfied: charset-normalizer<4,>=2 in /opt/conda/lib/python3.10/site-packages (from requests>=2.19.0->evaluate) (3.3.2)\n",
      "Requirement already satisfied: idna<4,>=2.5 in /opt/conda/lib/python3.10/site-packages (from requests>=2.19.0->evaluate) (3.7)\n",
      "Requirement already satisfied: urllib3<3,>=1.21.1 in /opt/conda/lib/python3.10/site-packages (from requests>=2.19.0->evaluate) (1.26.18)\n",
      "Requirement already satisfied: certifi>=2017.4.17 in /opt/conda/lib/python3.10/site-packages (from requests>=2.19.0->evaluate) (2024.8.30)\n",
      "Requirement already satisfied: python-dateutil>=2.8.2 in /opt/conda/lib/python3.10/site-packages (from pandas->evaluate) (2.9.0.post0)\n",
      "Requirement already satisfied: pytz>=2020.1 in /opt/conda/lib/python3.10/site-packages (from pandas->evaluate) (2024.1)\n",
      "Requirement already satisfied: tzdata>=2022.7 in /opt/conda/lib/python3.10/site-packages (from pandas->evaluate) (2024.1)\n",
      "Requirement already satisfied: aiosignal>=1.1.2 in /opt/conda/lib/python3.10/site-packages (from aiohttp->datasets>=2.0.0->evaluate) (1.3.1)\n",
      "Requirement already satisfied: attrs>=17.3.0 in /opt/conda/lib/python3.10/site-packages (from aiohttp->datasets>=2.0.0->evaluate) (23.2.0)\n",
      "Requirement already satisfied: frozenlist>=1.1.1 in /opt/conda/lib/python3.10/site-packages (from aiohttp->datasets>=2.0.0->evaluate) (1.4.1)\n",
      "Requirement already satisfied: multidict<7.0,>=4.5 in /opt/conda/lib/python3.10/site-packages (from aiohttp->datasets>=2.0.0->evaluate) (6.0.5)\n",
      "Requirement already satisfied: yarl<2.0,>=1.0 in /opt/conda/lib/python3.10/site-packages (from aiohttp->datasets>=2.0.0->evaluate) (1.9.4)\n",
      "Requirement already satisfied: async-timeout<5.0,>=4.0 in /opt/conda/lib/python3.10/site-packages (from aiohttp->datasets>=2.0.0->evaluate) (4.0.3)\n",
      "Requirement already satisfied: six>=1.5 in /opt/conda/lib/python3.10/site-packages (from python-dateutil>=2.8.2->pandas->evaluate) (1.16.0)\n"
     ]
    }
   ],
   "source": [
    "!pip install evaluate"
   ]
  },
  {
   "cell_type": "code",
   "execution_count": 142,
   "metadata": {
    "execution": {
     "iopub.execute_input": "2024-11-25T16:39:27.206996Z",
     "iopub.status.busy": "2024-11-25T16:39:27.206658Z",
     "iopub.status.idle": "2024-11-25T16:43:00.582260Z",
     "shell.execute_reply": "2024-11-25T16:43:00.581349Z",
     "shell.execute_reply.started": "2024-11-25T16:39:27.206962Z"
    }
   },
   "outputs": [
    {
     "name": "stderr",
     "output_type": "stream",
     "text": [
      "/opt/conda/lib/python3.10/site-packages/transformers/training_args.py:1545: FutureWarning: `evaluation_strategy` is deprecated and will be removed in version 4.46 of 🤗 Transformers. Use `eval_strategy` instead\n",
      "  warnings.warn(\n"
     ]
    },
    {
     "data": {
      "text/html": [
       "\n",
       "    <div>\n",
       "      \n",
       "      <progress value='1030' max='1030' style='width:300px; height:20px; vertical-align: middle;'></progress>\n",
       "      [1030/1030 03:30, Epoch 10/10]\n",
       "    </div>\n",
       "    <table border=\"1\" class=\"dataframe\">\n",
       "  <thead>\n",
       " <tr style=\"text-align: left;\">\n",
       "      <th>Step</th>\n",
       "      <th>Training Loss</th>\n",
       "      <th>Validation Loss</th>\n",
       "    </tr>\n",
       "  </thead>\n",
       "  <tbody>\n",
       "    <tr>\n",
       "      <td>500</td>\n",
       "      <td>1.106700</td>\n",
       "      <td>0.451836</td>\n",
       "    </tr>\n",
       "    <tr>\n",
       "      <td>1000</td>\n",
       "      <td>0.333700</td>\n",
       "      <td>0.465542</td>\n",
       "    </tr>\n",
       "  </tbody>\n",
       "</table><p>"
      ],
      "text/plain": [
       "<IPython.core.display.HTML object>"
      ]
     },
     "metadata": {},
     "output_type": "display_data"
    },
    {
     "name": "stderr",
     "output_type": "stream",
     "text": [
      "/opt/conda/lib/python3.10/site-packages/transformers/modeling_utils.py:2618: UserWarning: Moving the following attributes in the config to the generation config: {'early_stopping': True, 'num_beams': 4, 'no_repeat_ngram_size': 3, 'forced_bos_token_id': 0}. You are seeing this warning because you've set generation parameters in the model config, as opposed to in the generation config.\n",
      "  warnings.warn(\n",
      "There were missing keys in the checkpoint model loaded: ['model.encoder.embed_tokens.weight', 'model.decoder.embed_tokens.weight', 'lm_head.weight'].\n"
     ]
    },
    {
     "data": {
      "text/plain": [
       "('./finetuned_bart_samsum/tokenizer_config.json',\n",
       " './finetuned_bart_samsum/special_tokens_map.json',\n",
       " './finetuned_bart_samsum/vocab.json',\n",
       " './finetuned_bart_samsum/merges.txt',\n",
       " './finetuned_bart_samsum/added_tokens.json',\n",
       " './finetuned_bart_samsum/tokenizer.json')"
      ]
     },
     "execution_count": 142,
     "metadata": {},
     "output_type": "execute_result"
    }
   ],
   "source": [
    "from transformers import BartForConditionalGeneration, TrainingArguments, Trainer, EarlyStoppingCallback\n",
    "\n",
    "# Define training arguments\n",
    "training_args = TrainingArguments(\n",
    "    output_dir=\"./results\",\n",
    "    evaluation_strategy=\"steps\",  \n",
    "    save_strategy=\"steps\",        \n",
    "    learning_rate=5e-5,\n",
    "    weight_decay= 0.01,\n",
    "    per_device_train_batch_size=8,\n",
    "    per_device_eval_batch_size=8,\n",
    "    num_train_epochs=10,\n",
    "    save_total_limit=2,\n",
    "    load_best_model_at_end=True,  \n",
    "    metric_for_best_model=\"eval_loss\", \n",
    "    greater_is_better=False,  \n",
    ")\n",
    "\n",
    "# Initialize the Trainer\n",
    "trainer = Trainer(\n",
    "    model=model,\n",
    "    args=training_args,\n",
    "    train_dataset=train_dataset,\n",
    "    eval_dataset=validation_dataset,\n",
    "    tokenizer=tokenizer,\n",
    "    callbacks=[EarlyStoppingCallback(early_stopping_patience=3)]\n",
    ")\n",
    "\n",
    "# Train the model\n",
    "trainer.train()\n",
    "\n",
    "# Save the fine-tuned model and tokenizer\n",
    "model.save_pretrained(\"./finetuned_bart_samsum\")\n",
    "tokenizer.save_pretrained(\"./finetuned_bart_samsum\")"
   ]
  },
  {
   "cell_type": "code",
   "execution_count": 143,
   "metadata": {
    "execution": {
     "iopub.execute_input": "2024-11-25T16:43:00.583740Z",
     "iopub.status.busy": "2024-11-25T16:43:00.583437Z",
     "iopub.status.idle": "2024-11-25T16:43:06.045133Z",
     "shell.execute_reply": "2024-11-25T16:43:06.044384Z",
     "shell.execute_reply.started": "2024-11-25T16:43:00.583713Z"
    }
   },
   "outputs": [
    {
     "data": {
      "text/html": [
       "\n",
       "    <div>\n",
       "      \n",
       "      <progress value='103' max='103' style='width:300px; height:20px; vertical-align: middle;'></progress>\n",
       "      [103/103 00:05]\n",
       "    </div>\n",
       "    "
      ],
      "text/plain": [
       "<IPython.core.display.HTML object>"
      ]
     },
     "metadata": {},
     "output_type": "display_data"
    },
    {
     "name": "stdout",
     "output_type": "stream",
     "text": [
      "{'eval_loss': 0.2771747410297394, 'eval_runtime': 5.4516, 'eval_samples_per_second': 150.23, 'eval_steps_per_second': 18.893, 'epoch': 10.0}\n"
     ]
    }
   ],
   "source": [
    "# Evaluate the model\n",
    "results = trainer.evaluate(eval_dataset=test_dataset)\n",
    "print(results)\n"
   ]
  },
  {
   "cell_type": "code",
   "execution_count": 144,
   "metadata": {
    "execution": {
     "iopub.execute_input": "2024-11-25T16:43:06.046415Z",
     "iopub.status.busy": "2024-11-25T16:43:06.046135Z",
     "iopub.status.idle": "2024-11-25T16:43:16.300959Z",
     "shell.execute_reply": "2024-11-25T16:43:16.299920Z",
     "shell.execute_reply.started": "2024-11-25T16:43:06.046375Z"
    }
   },
   "outputs": [
    {
     "name": "stderr",
     "output_type": "stream",
     "text": [
      "/opt/conda/lib/python3.10/pty.py:89: RuntimeWarning: os.fork() was called. os.fork() is incompatible with multithreaded code, and JAX is multithreaded, so this will likely lead to a deadlock.\n",
      "  pid, fd = os.forkpty()\n",
      "huggingface/tokenizers: The current process just got forked, after parallelism has already been used. Disabling parallelism to avoid deadlocks...\n",
      "To disable this warning, you can either:\n",
      "\t- Avoid using `tokenizers` before the fork if possible\n",
      "\t- Explicitly set the environment variable TOKENIZERS_PARALLELISM=(true | false)\n"
     ]
    },
    {
     "name": "stdout",
     "output_type": "stream",
     "text": [
      "Requirement already satisfied: rouge_score in /opt/conda/lib/python3.10/site-packages (0.1.2)\n",
      "Requirement already satisfied: absl-py in /opt/conda/lib/python3.10/site-packages (from rouge_score) (1.4.0)\n",
      "Requirement already satisfied: nltk in /opt/conda/lib/python3.10/site-packages (from rouge_score) (3.2.4)\n",
      "Requirement already satisfied: numpy in /opt/conda/lib/python3.10/site-packages (from rouge_score) (1.26.4)\n",
      "Requirement already satisfied: six>=1.14.0 in /opt/conda/lib/python3.10/site-packages (from rouge_score) (1.16.0)\n"
     ]
    }
   ],
   "source": [
    "!pip install rouge_score\n"
   ]
  },
  {
   "cell_type": "code",
   "execution_count": 145,
   "metadata": {
    "execution": {
     "iopub.execute_input": "2024-11-25T16:43:16.302973Z",
     "iopub.status.busy": "2024-11-25T16:43:16.302652Z",
     "iopub.status.idle": "2024-11-25T16:45:09.027825Z",
     "shell.execute_reply": "2024-11-25T16:45:09.026957Z",
     "shell.execute_reply.started": "2024-11-25T16:43:16.302940Z"
    }
   },
   "outputs": [
    {
     "name": "stdout",
     "output_type": "stream",
     "text": [
      "ROUGE Scores:\n",
      "rouge1: 0.4246\n",
      "rouge2: 0.1890\n",
      "rougeL: 0.3285\n",
      "rougeLsum: 0.3284\n"
     ]
    }
   ],
   "source": [
    "# Model evaluating using ROUGE\n",
    "from evaluate import load\n",
    "import torch\n",
    "\n",
    "# Load ROUGE metric\n",
    "rouge = load(\"rouge\")\n",
    "\n",
    "# Function to generate predictions\n",
    "def generate_predictions(model, tokenizer, dataset):\n",
    "    predictions = []\n",
    "    references = []\n",
    "\n",
    "    for example in dataset:\n",
    "        # Prepare the input dialogue\n",
    "        inputs = tokenizer(\n",
    "            example[\"dialogue\"], \n",
    "            return_tensors=\"pt\", \n",
    "            max_length=512, \n",
    "            truncation=True, \n",
    "            padding=\"max_length\"\n",
    "        )\n",
    "        \n",
    "        # Move inputs to GPU if available\n",
    "        inputs = {k: v.to(\"cuda\") for k, v in inputs.items()} if torch.cuda.is_available() else inputs\n",
    "        \n",
    "        # Generate summary\n",
    "        with torch.no_grad():\n",
    "            outputs = model.generate(\n",
    "                input_ids=inputs[\"input_ids\"], \n",
    "                attention_mask=inputs[\"attention_mask\"], \n",
    "                max_length=128, \n",
    "                min_length=30, \n",
    "                do_sample=False\n",
    "            )\n",
    "        \n",
    "        # Decode the generated summary\n",
    "        generated_summary = tokenizer.decode(outputs[0], skip_special_tokens=True)\n",
    "        \n",
    "        # Append generated summary and reference summary\n",
    "        predictions.append(generated_summary)\n",
    "        references.append(example[\"summary\"])\n",
    "    \n",
    "    return predictions, references\n",
    "\n",
    "# Generate predictions and references\n",
    "test_predictions, test_references = generate_predictions(model, tokenizer, validation_dataloader)\n",
    "\n",
    "# Compute ROUGE scores\n",
    "rouge_results = rouge.compute(predictions=test_predictions, references=test_references)\n",
    "\n",
    "# Print ROUGE scores\n",
    "print(\"ROUGE Scores:\")\n",
    "for key, value in rouge_results.items():\n",
    "    print(f\"{key}: {value:.4f}\")\n"
   ]
  },
  {
   "cell_type": "code",
   "execution_count": null,
   "metadata": {},
   "outputs": [],
   "source": []
  }
 ],
 "metadata": {
  "kaggle": {
   "accelerator": "none",
   "dataSources": [
    {
     "datasetId": 3438844,
     "sourceId": 6004344,
     "sourceType": "datasetVersion"
    },
    {
     "datasetId": 6155682,
     "sourceId": 10000750,
     "sourceType": "datasetVersion"
    }
   ],
   "dockerImageVersionId": 30787,
   "isGpuEnabled": false,
   "isInternetEnabled": true,
   "language": "python",
   "sourceType": "notebook"
  },
  "kernelspec": {
   "display_name": "Python 3 (ipykernel)",
   "language": "python",
   "name": "python3"
  },
  "language_info": {
   "codemirror_mode": {
    "name": "ipython",
    "version": 3
   },
   "file_extension": ".py",
   "mimetype": "text/x-python",
   "name": "python",
   "nbconvert_exporter": "python",
   "pygments_lexer": "ipython3",
   "version": "3.10.12"
  }
 },
 "nbformat": 4,
 "nbformat_minor": 4
}
